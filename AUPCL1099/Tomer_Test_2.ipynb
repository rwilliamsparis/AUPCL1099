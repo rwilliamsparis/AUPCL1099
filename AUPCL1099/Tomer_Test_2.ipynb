{
 "cells": [
  {
   "cell_type": "code",
   "execution_count": 9,
   "id": "f5ac4ea8",
   "metadata": {},
   "outputs": [],
   "source": [
    "with open ('/home/jovyan/AUPCL1099/corpora/Frankenstein.txt') as f:\n",
    "    frankie_text = f.read()"
   ]
  },
  {
   "cell_type": "code",
   "execution_count": 10,
   "id": "a752c755",
   "metadata": {},
   "outputs": [
    {
     "name": "stdout",
     "output_type": "stream",
     "text": [
      "\n",
      "\n",
      "\n",
      "\n",
      "INTRODUCTION.\n",
      "\n",
      "\n",
      "The Publishers of the Standard Novels, in selecting \"Frankenstein\" for\n",
      "one of their series, expressed a wish that I should furnish them with\n",
      "some account of the origin of the story. I am the more willing to\n",
      "comply, because I shall thus give a general answer to the question, so\n",
      "very frequently asked me--\"How I, when a young girl, came to think of,\n",
      "and to dilate upon, so very hideous an idea?\" It is true that I am very\n",
      "averse to bringing myself forward in print; but as my account will only\n",
      "appear as an appendage to a former production, and as it will be\n",
      "confined to such topics as have connection with my authorship alone, I\n",
      "can scarcely accuse myself of a personal intrusion.\n",
      "\n",
      "It is not singular that, as the daughter of two persons of distinguished\n",
      "literary celebrity, I should very early in life have thought of writing.\n",
      "As a child I scribbled; and my favourite pastime, during the hours given\n",
      "me for recreation, was to \"write stories.\" Still I had a dearer pleasure\n",
      "than this, which was the formation of castles in the air--the indulging\n",
      "in waking dreams--the following up trains of thought, which had for\n",
      "their subject the formation of a succession of imaginary incidents. My\n",
      "dreams were at once more fantastic and agreeable than my writings. In\n",
      "the latter I was a close imitator--rather doing as others had done,\n",
      "than putting down the suggestions of my own mind. What I wrote was\n",
      "intended at least for one other eye--my childhood's companion and\n",
      "friend; but my dreams were all my own; I accounted for them to nobody;\n",
      "they were my refuge when annoyed--my dearest pleasure when free.\n",
      "\n",
      "I lived principally in the country as a girl, and passed a considerable\n",
      "time in Scotland. I made occasional visits to the more picturesque\n",
      "parts; but my habitual residence was on the blank and dreary northern\n",
      "shores of the Tay, near Dundee. Blank and dreary on retrospection I call\n",
      "them; they were not so to me then. They were the eyry of freedom, and\n",
      "the pleasant region where unheeded \n"
     ]
    }
   ],
   "source": [
    "print(frankie_text[:2000])"
   ]
  },
  {
   "cell_type": "code",
   "execution_count": null,
   "id": "48fcb045",
   "metadata": {},
   "outputs": [],
   "source": []
  }
 ],
 "metadata": {
  "kernelspec": {
   "display_name": "Python 3 (ipykernel)",
   "language": "python",
   "name": "python3"
  },
  "language_info": {
   "codemirror_mode": {
    "name": "ipython",
    "version": 3
   },
   "file_extension": ".py",
   "mimetype": "text/x-python",
   "name": "python",
   "nbconvert_exporter": "python",
   "pygments_lexer": "ipython3",
   "version": "3.7.8"
  }
 },
 "nbformat": 4,
 "nbformat_minor": 5
}
